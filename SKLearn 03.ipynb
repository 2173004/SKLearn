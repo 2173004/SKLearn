{
 "cells": [
  {
   "cell_type": "markdown",
   "id": "d1b9e342",
   "metadata": {},
   "source": [
    "## Machine Learning Workflow Dengan Scikit Learn ##"
   ]
  },
  {
   "cell_type": "markdown",
   "id": "6b8ed2ac",
   "metadata": {},
   "source": [
    "### Persiapan Dataset ###"
   ]
  },
  {
   "cell_type": "code",
   "execution_count": 11,
   "id": "7efd82fd",
   "metadata": {},
   "outputs": [],
   "source": [
    "from sklearn.datasets import load_iris\n",
    "\n",
    "iris = load_iris()\n",
    "\n",
    "X= iris.data\n",
    "y = iris.target"
   ]
  },
  {
   "cell_type": "markdown",
   "id": "ce79ae8c",
   "metadata": {},
   "source": [
    "### Splitting Dataset Trainning & Testing Set ###"
   ]
  },
  {
   "cell_type": "code",
   "execution_count": 12,
   "id": "c88f2e0b",
   "metadata": {},
   "outputs": [],
   "source": [
    "from sklearn.model_selection import train_test_split\n",
    "\n",
    "X_train, X_test, y_train, y_test = train_test_split(x,\n",
    "                                                   y,\n",
    "                                                   test_size=0.4,\n",
    "                                                   random_state=1)\n",
    "#training set digunakan untuk proses training model dan testing set digunakan untuk melakukan evaluasi dari model sebelumnya. "
   ]
  },
  {
   "cell_type": "markdown",
   "id": "f711e650",
   "metadata": {},
   "source": [
    "### Training Model ###\n",
    "#### - Pada Scikit Learn, model machine learning dibentuk dari class yang dikenal dengan istilah estimator.\n",
    "#### - Setiap estimator akan mengimplementasikan dua method utama, yaitu fit() dan predict().\n",
    "#### - Method fit() digunakan untuk melakukan training model.\n",
    "#### - Method predict() digunakan untuk melakukan estimasi/prediksi dengan memanfaatkan trained model. ####"
   ]
  },
  {
   "cell_type": "code",
   "execution_count": 14,
   "id": "7a3eaa20",
   "metadata": {},
   "outputs": [
    {
     "data": {
      "text/plain": [
       "KNeighborsClassifier(n_neighbors=3)"
      ]
     },
     "execution_count": 14,
     "metadata": {},
     "output_type": "execute_result"
    }
   ],
   "source": [
    "from sklearn.neighbors import KNeighborsClassifier \n",
    "\n",
    "model = KNeighborsClassifier(n_neighbors=3) #n_neighbors parameter\n",
    "model.fit(X_train, y_train)"
   ]
  },
  {
   "cell_type": "markdown",
   "id": "67abfa97",
   "metadata": {},
   "source": [
    "### Evaluasi Model ###"
   ]
  },
  {
   "cell_type": "code",
   "execution_count": 16,
   "id": "1c432c47",
   "metadata": {},
   "outputs": [
    {
     "name": "stdout",
     "output_type": "stream",
     "text": [
      "Accuracy: 0.9833333333333333\n"
     ]
    }
   ],
   "source": [
    "from sklearn.metrics import accuracy_score\n",
    "\n",
    "y_pred = model.predict(X_test) #melakukan prediksi\n",
    "acc = accuracy_score(y_test, y_pred) #hasil prediksi ditaruh di y_pred\n",
    "print(f'Accuracy: {acc}')"
   ]
  },
  {
   "cell_type": "markdown",
   "id": "4a7e2593",
   "metadata": {},
   "source": [
    "### Pemanfaatan Trained Model ###"
   ]
  },
  {
   "cell_type": "code",
   "execution_count": 17,
   "id": "d4f5040b",
   "metadata": {},
   "outputs": [
    {
     "data": {
      "text/plain": [
       "array([1, 2])"
      ]
     },
     "execution_count": 17,
     "metadata": {},
     "output_type": "execute_result"
    }
   ],
   "source": [
    "#Model yang telah di training akan digunakan untuk melakukan prediksi pada data baru,dan pada data baru tidak memiliki nilai target\n",
    "data_baru = [[5, 5, 3, 2], #nilai target 1\n",
    "            [2, 4, 3, 5]] #nilai taget 2\n",
    "\n",
    "preds = model.predict(data_baru)\n",
    "preds"
   ]
  },
  {
   "cell_type": "code",
   "execution_count": 18,
   "id": "c682f94a",
   "metadata": {},
   "outputs": [
    {
     "name": "stdout",
     "output_type": "stream",
     "text": [
      "Hasil Prediksi: ['versicolor', 'virginica']\n"
     ]
    }
   ],
   "source": [
    "#konfirmasi nilai target dengan proses memanggil nilai target yang sudah mapping kan dengan nilai prediksi\n",
    "pred_species = [iris.target_names[p] for p in preds] \n",
    "print(f'Hasil Prediksi: {pred_species}')"
   ]
  },
  {
   "cell_type": "raw",
   "id": "5772b207",
   "metadata": {},
   "source": [
    "nilai target 1 masuk ke versicolor dan nilai target 2 masuk ke virginica"
   ]
  },
  {
   "cell_type": "markdown",
   "id": "cc9f58a4",
   "metadata": {},
   "source": [
    "### Dump & Load Trained Model ###"
   ]
  },
  {
   "cell_type": "markdown",
   "id": "3897978d",
   "metadata": {},
   "source": [
    "#### Dumpling Model Machine Learning menjadi file joblib ####"
   ]
  },
  {
   "cell_type": "code",
   "execution_count": 21,
   "id": "bb6895a6",
   "metadata": {},
   "outputs": [
    {
     "data": {
      "text/plain": [
       "['iris_classifier_knn.joblib']"
      ]
     },
     "execution_count": 21,
     "metadata": {},
     "output_type": "execute_result"
    }
   ],
   "source": [
    "import joblib\n",
    "\n",
    "joblib.dump(model, 'iris_classifier_knn.joblib')"
   ]
  },
  {
   "cell_type": "markdown",
   "id": "9f409a82",
   "metadata": {},
   "source": [
    "#### Loading Model Machine Learning dari file joblib ####"
   ]
  },
  {
   "cell_type": "code",
   "execution_count": 24,
   "id": "c2568f7e",
   "metadata": {},
   "outputs": [],
   "source": [
    "production_model = joblib.load('iris_classifier_knn.joblib')"
   ]
  },
  {
   "cell_type": "raw",
   "id": "896bc6cb",
   "metadata": {},
   "source": [
    "2173004 Velinda Novelia Candra"
   ]
  }
 ],
 "metadata": {
  "kernelspec": {
   "display_name": "Python 3 (ipykernel)",
   "language": "python",
   "name": "python3"
  },
  "language_info": {
   "codemirror_mode": {
    "name": "ipython",
    "version": 3
   },
   "file_extension": ".py",
   "mimetype": "text/x-python",
   "name": "python",
   "nbconvert_exporter": "python",
   "pygments_lexer": "ipython3",
   "version": "3.9.7"
  }
 },
 "nbformat": 4,
 "nbformat_minor": 5
}
